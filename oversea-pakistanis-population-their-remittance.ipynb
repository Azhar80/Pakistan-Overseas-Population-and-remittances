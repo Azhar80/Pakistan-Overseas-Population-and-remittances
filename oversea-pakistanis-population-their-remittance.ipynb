{
 "cells": [
  {
   "cell_type": "code",
   "execution_count": null,
   "metadata": {
    "_cell_guid": "b1076dfc-b9ad-4769-8c92-a6c4dae69d19",
    "_uuid": "8f2839f25d086af736a60e9eeb907d3b93b6e0e5",
    "execution": {
     "iopub.execute_input": "2023-05-13T12:18:12.941198Z",
     "iopub.status.busy": "2023-05-13T12:18:12.940737Z",
     "iopub.status.idle": "2023-05-13T12:18:12.983417Z",
     "shell.execute_reply": "2023-05-13T12:18:12.982129Z",
     "shell.execute_reply.started": "2023-05-13T12:18:12.941154Z"
    }
   },
   "outputs": [],
   "source": [
    "# This Python 3 environment comes with many helpful analytics libraries installed\n",
    "# It is defined by the kaggle/python Docker image: https://github.com/kaggle/docker-python\n",
    "# For example, here's several helpful packages to load\n",
    "\n",
    "import numpy as np # linear algebra\n",
    "import pandas as pd # data processing, CSV file I/O (e.g. pd.read_csv)\n",
    "\n",
    "# Input data files are available in the read-only \"../input/\" directory\n",
    "# For example, running this (by clicking run or pressing Shift+Enter) will list all files under the input directory\n",
    "\n",
    "import os\n",
    "for dirname, _, filenames in os.walk('/kaggle/input'):\n",
    "    for filename in filenames:\n",
    "        print(os.path.join(dirname, filename))\n",
    "\n",
    "# You can write up to 20GB to the current directory (/kaggle/working/) that gets preserved as output when you create a version using \"Save & Run All\" \n",
    "# You can also write temporary files to /kaggle/temp/, but they won't be saved outside of the current session"
   ]
  },
  {
   "cell_type": "code",
   "execution_count": null,
   "metadata": {
    "execution": {
     "iopub.execute_input": "2023-05-13T12:24:47.740138Z",
     "iopub.status.busy": "2023-05-13T12:24:47.739065Z",
     "iopub.status.idle": "2023-05-13T12:24:47.746756Z",
     "shell.execute_reply": "2023-05-13T12:24:47.745493Z",
     "shell.execute_reply.started": "2023-05-13T12:24:47.740065Z"
    }
   },
   "outputs": [],
   "source": [
    "import seaborn as sns\n",
    "import numpy as np \n",
    "import matplotlib.pyplot as plt\n",
    "import pandas as pd\n",
    "from sklearn.linear_model import LinearRegression\n",
    "import statsmodels.api as sm"
   ]
  },
  {
   "cell_type": "code",
   "execution_count": null,
   "metadata": {
    "execution": {
     "iopub.execute_input": "2023-05-13T12:18:16.723803Z",
     "iopub.status.busy": "2023-05-13T12:18:16.723376Z",
     "iopub.status.idle": "2023-05-13T12:18:16.773823Z",
     "shell.execute_reply": "2023-05-13T12:18:16.772696Z",
     "shell.execute_reply.started": "2023-05-13T12:18:16.723764Z"
    }
   },
   "outputs": [],
   "source": [
    "df=pd.read_csv('/kaggle/input/overseas-pakistani-population-and-remittance/Overseas Pakistani Population and Remittance By Years.csv')\n",
    "df.head()"
   ]
  },
  {
   "cell_type": "code",
   "execution_count": null,
   "metadata": {
    "execution": {
     "iopub.execute_input": "2023-05-13T12:18:19.671289Z",
     "iopub.status.busy": "2023-05-13T12:18:19.670403Z",
     "iopub.status.idle": "2023-05-13T12:18:19.68109Z",
     "shell.execute_reply": "2023-05-13T12:18:19.67953Z",
     "shell.execute_reply.started": "2023-05-13T12:18:19.671228Z"
    }
   },
   "outputs": [],
   "source": [
    "df.shape"
   ]
  },
  {
   "cell_type": "code",
   "execution_count": null,
   "metadata": {
    "execution": {
     "iopub.execute_input": "2023-05-13T12:18:22.017561Z",
     "iopub.status.busy": "2023-05-13T12:18:22.017122Z",
     "iopub.status.idle": "2023-05-13T12:18:22.062604Z",
     "shell.execute_reply": "2023-05-13T12:18:22.06108Z",
     "shell.execute_reply.started": "2023-05-13T12:18:22.017522Z"
    }
   },
   "outputs": [],
   "source": [
    "df.describe()"
   ]
  },
  {
   "cell_type": "code",
   "execution_count": null,
   "metadata": {
    "execution": {
     "iopub.execute_input": "2023-05-13T12:18:24.618183Z",
     "iopub.status.busy": "2023-05-13T12:18:24.617717Z",
     "iopub.status.idle": "2023-05-13T12:18:24.631584Z",
     "shell.execute_reply": "2023-05-13T12:18:24.630076Z",
     "shell.execute_reply.started": "2023-05-13T12:18:24.618139Z"
    }
   },
   "outputs": [],
   "source": [
    "df.isnull().sum()"
   ]
  },
  {
   "cell_type": "code",
   "execution_count": null,
   "metadata": {
    "execution": {
     "iopub.execute_input": "2023-05-13T12:18:27.342379Z",
     "iopub.status.busy": "2023-05-13T12:18:27.341836Z",
     "iopub.status.idle": "2023-05-13T12:18:27.352533Z",
     "shell.execute_reply": "2023-05-13T12:18:27.350805Z",
     "shell.execute_reply.started": "2023-05-13T12:18:27.342331Z"
    }
   },
   "outputs": [],
   "source": [
    "# Fill in missing values in the \"Year\" and \"Remittance ($ billion)\" columns with their respective means\n",
    "df[\"Year\"] = df[\"Year\"].fillna(df[\"Year\"].mean())\n",
    "df[\" Remittance ($ billion)\"] = df[\" Remittance ($ billion)\"].fillna(df[\" Remittance ($ billion)\"].mean())\n"
   ]
  },
  {
   "cell_type": "code",
   "execution_count": null,
   "metadata": {
    "execution": {
     "iopub.execute_input": "2023-05-13T12:18:30.695718Z",
     "iopub.status.busy": "2023-05-13T12:18:30.695167Z",
     "iopub.status.idle": "2023-05-13T12:18:30.709896Z",
     "shell.execute_reply": "2023-05-13T12:18:30.708398Z",
     "shell.execute_reply.started": "2023-05-13T12:18:30.695665Z"
    }
   },
   "outputs": [],
   "source": [
    "# Fill in missing values in the \"Extra Information\", \"Overseas Pakistani Population by Continent\", and \"Population (by Continent)\" columns with their respective modes\n",
    "df[\"Extra Information\"] = df[\"Extra Information\"].fillna(df[\"Extra Information\"].mode()[0])\n",
    "df[\"Overseas Pakistani Population by Continent\"] = df[\"Overseas Pakistani Population by Continent\"].fillna(df[\"Overseas Pakistani Population by Continent\"].mode()[0])\n",
    "df[\"Population (by Continent)\"] = df[\"Population (by Continent)\"].fillna(df[\"Population (by Continent)\"].mode()[0])\n"
   ]
  },
  {
   "cell_type": "code",
   "execution_count": null,
   "metadata": {
    "execution": {
     "iopub.execute_input": "2023-05-13T12:18:34.153762Z",
     "iopub.status.busy": "2023-05-13T12:18:34.153285Z",
     "iopub.status.idle": "2023-05-13T12:18:34.167732Z",
     "shell.execute_reply": "2023-05-13T12:18:34.165804Z",
     "shell.execute_reply.started": "2023-05-13T12:18:34.153711Z"
    }
   },
   "outputs": [],
   "source": [
    "df.isnull().sum()"
   ]
  },
  {
   "cell_type": "code",
   "execution_count": null,
   "metadata": {
    "execution": {
     "iopub.execute_input": "2023-05-13T12:18:36.278756Z",
     "iopub.status.busy": "2023-05-13T12:18:36.278254Z",
     "iopub.status.idle": "2023-05-13T12:18:36.301942Z",
     "shell.execute_reply": "2023-05-13T12:18:36.300074Z",
     "shell.execute_reply.started": "2023-05-13T12:18:36.278712Z"
    }
   },
   "outputs": [],
   "source": [
    "df.head()"
   ]
  },
  {
   "cell_type": "code",
   "execution_count": null,
   "metadata": {
    "execution": {
     "iopub.execute_input": "2023-05-13T12:21:07.221258Z",
     "iopub.status.busy": "2023-05-13T12:21:07.219811Z",
     "iopub.status.idle": "2023-05-13T12:21:07.664383Z",
     "shell.execute_reply": "2023-05-13T12:21:07.662814Z",
     "shell.execute_reply.started": "2023-05-13T12:21:07.221194Z"
    }
   },
   "outputs": [],
   "source": [
    "# Create a histogram of the \"Remittance ($ billion)\" variable\n",
    "sns.histplot(data=df, x=\" Remittance ($ billion)\")\n",
    "\n",
    "# Create a histogram of the \"Remittance ($ billion)\" variable\n",
    "sns.histplot(data=df, x=\" Remittance ($ billion)\")\n",
    "\n",
    "# Add plot title and axis labels\n",
    "plt.title(\"Distribution of Remittance ($ billion) for Overseas Pakistanis\")\n",
    "plt.xlabel(\"Remittance ($ billion)\")\n",
    "plt.ylabel(\"Number of Countries\")\n",
    "\n",
    "# Add a kernel density estimate line\n",
    "sns.kdeplot(data=df, x=\" Remittance ($ billion)\")\n",
    "\n",
    "# Show the plot\n",
    "plt.show()\n",
    "\n"
   ]
  },
  {
   "cell_type": "code",
   "execution_count": null,
   "metadata": {
    "execution": {
     "iopub.execute_input": "2023-05-13T12:21:10.423856Z",
     "iopub.status.busy": "2023-05-13T12:21:10.423359Z",
     "iopub.status.idle": "2023-05-13T12:21:10.762249Z",
     "shell.execute_reply": "2023-05-13T12:21:10.760854Z",
     "shell.execute_reply.started": "2023-05-13T12:21:10.423809Z"
    }
   },
   "outputs": [],
   "source": [
    "# Create a density plot of the \"Remittance ($ billion)\" variable\n",
    "sns.set_style(\"whitegrid\")\n",
    "plt.figure(figsize=(8, 6))\n",
    "sns.kdeplot(data=df, x=\" Remittance ($ billion)\", fill=True, alpha=0.5, color=\"#1f77b4\")\n",
    "plt.title(\"Density Plot of Remittance ($ Billion)\")\n",
    "plt.xlabel(\"Remittance ($ Billion)\")\n",
    "plt.ylabel(\"Density\")\n",
    "plt.show()\n"
   ]
  },
  {
   "cell_type": "code",
   "execution_count": null,
   "metadata": {
    "execution": {
     "iopub.execute_input": "2023-05-13T12:21:13.452218Z",
     "iopub.status.busy": "2023-05-13T12:21:13.451714Z",
     "iopub.status.idle": "2023-05-13T12:21:17.661744Z",
     "shell.execute_reply": "2023-05-13T12:21:17.66083Z",
     "shell.execute_reply.started": "2023-05-13T12:21:13.452174Z"
    }
   },
   "outputs": [],
   "source": [
    "# Set the figure size\n",
    "plt.figure(figsize=(10, 8))\n",
    "\n",
    "# Create a scatter plot of \"Remittance ($ billion)\" vs \"Overseas Pakistani population (By Country)\"\n",
    "sns.scatterplot(data=df, x=\"Overseas Pakistani population (By Country)\", y=\" Remittance ($ billion)\", hue=\"Country\")\n",
    "\n",
    "# Set the x and y axis labels and font sizes\n",
    "plt.xlabel(\"Overseas Pakistani population (By Country)\", fontsize=14)\n",
    "plt.ylabel(\"Remittance ($ billion)\", fontsize=14)\n",
    "\n",
    "# Set the title and font size\n",
    "plt.title(\"Remittance vs Overseas Pakistani population by country\", fontsize=16)\n",
    "\n",
    "# Add a grid to the plot\n",
    "plt.grid(True)\n",
    "\n",
    "# Show the plot\n",
    "plt.show()\n"
   ]
  },
  {
   "cell_type": "code",
   "execution_count": null,
   "metadata": {
    "execution": {
     "iopub.execute_input": "2023-05-13T12:21:24.095639Z",
     "iopub.status.busy": "2023-05-13T12:21:24.093801Z",
     "iopub.status.idle": "2023-05-13T12:21:24.621065Z",
     "shell.execute_reply": "2023-05-13T12:21:24.619431Z",
     "shell.execute_reply.started": "2023-05-13T12:21:24.095538Z"
    }
   },
   "outputs": [],
   "source": [
    "# Create a correlation matrix of the numerical variables in the dataset\n",
    "corr = df.select_dtypes(include=['float64', 'int64']).corr()\n",
    "\n",
    "# Set up the matplotlib figure and plot the heatmap\n",
    "fig, ax = plt.subplots(figsize=(10, 8))\n",
    "sns.heatmap(corr, cmap='coolwarm', annot=True, square=True, ax=ax)\n",
    "\n",
    "# Customize the plot\n",
    "ax.set_title(\"Correlation Matrix of Numeric Variables\", fontsize=18)\n",
    "ax.tick_params(labelsize=14)\n",
    "\n",
    "# Show the plot\n",
    "plt.show()\n"
   ]
  },
  {
   "cell_type": "code",
   "execution_count": null,
   "metadata": {
    "execution": {
     "iopub.execute_input": "2023-05-13T12:21:28.128273Z",
     "iopub.status.busy": "2023-05-13T12:21:28.127545Z",
     "iopub.status.idle": "2023-05-13T12:21:28.541295Z",
     "shell.execute_reply": "2023-05-13T12:21:28.539642Z",
     "shell.execute_reply.started": "2023-05-13T12:21:28.128229Z"
    }
   },
   "outputs": [],
   "source": [
    "# Set the figure size\n",
    "plt.figure(figsize=(10, 6))\n",
    "\n",
    "# Create a line plot of \"Remittance ($ billion)\" vs \"Year\"\n",
    "sns.lineplot(data=df, x=\"Year\", y=\" Remittance ($ billion)\")\n",
    "\n",
    "# Set the x and y axis labels and font sizes\n",
    "plt.xlabel(\"Year\", fontsize=14)\n",
    "plt.ylabel(\"Remittance ($ billion)\", fontsize=14)\n",
    "\n",
    "# Set the title and font size\n",
    "plt.title(\"Remittance Received by Pakistan from Overseas Pakistanis (2005-2021)\", fontsize=16)\n",
    "\n",
    "# Show the plot\n",
    "plt.show()\n"
   ]
  },
  {
   "cell_type": "code",
   "execution_count": null,
   "metadata": {
    "execution": {
     "iopub.execute_input": "2023-05-13T12:21:31.311283Z",
     "iopub.status.busy": "2023-05-13T12:21:31.310801Z",
     "iopub.status.idle": "2023-05-13T12:21:34.621081Z",
     "shell.execute_reply": "2023-05-13T12:21:34.619777Z",
     "shell.execute_reply.started": "2023-05-13T12:21:31.311244Z"
    }
   },
   "outputs": [],
   "source": [
    "# Create a box plot of \"Remittance ($ billion)\" by country\n",
    "plt.figure(figsize=(12, 10))\n",
    "sns.boxplot(data=df, y=\"Country\", x=\" Remittance ($ billion)\")\n",
    "plt.xlabel(\"Remittance ($ billion)\", fontsize=14)\n",
    "plt.ylabel(\"Country\", fontsize=14)\n",
    "plt.xticks(fontsize=12)\n",
    "plt.yticks(fontsize=12)\n",
    "plt.title(\"Distribution of Remittance by Country\", fontsize=16)\n",
    "plt.show()"
   ]
  },
  {
   "cell_type": "code",
   "execution_count": null,
   "metadata": {
    "execution": {
     "iopub.execute_input": "2023-05-13T12:21:42.694005Z",
     "iopub.status.busy": "2023-05-13T12:21:42.693459Z",
     "iopub.status.idle": "2023-05-13T12:21:43.115882Z",
     "shell.execute_reply": "2023-05-13T12:21:43.114386Z",
     "shell.execute_reply.started": "2023-05-13T12:21:42.693931Z"
    }
   },
   "outputs": [],
   "source": [
    "# Create a line plot of \"Overseas Pakistani population (By Country)\" over time\n",
    "# Set the figure size\n",
    "plt.figure(figsize=(10,6))\n",
    "\n",
    "# Create a line plot of \"Overseas Pakistani population (By Country)\" over time\n",
    "sns.lineplot(data=df, x=\"Year\", y=\"Overseas Pakistani population (By Country)\")\n",
    "\n",
    "# Set the x and y axis labels and the title\n",
    "plt.xlabel(\"Year\")\n",
    "plt.ylabel(\"Overseas Pakistani Population (By Country)\")\n",
    "plt.title(\"Trend in Overseas Pakistani Population over Time\")\n",
    "\n",
    "# Show the plot\n",
    "plt.show()"
   ]
  },
  {
   "cell_type": "code",
   "execution_count": null,
   "metadata": {
    "execution": {
     "iopub.execute_input": "2023-05-13T12:21:46.178558Z",
     "iopub.status.busy": "2023-05-13T12:21:46.177984Z",
     "iopub.status.idle": "2023-05-13T12:21:46.577945Z",
     "shell.execute_reply": "2023-05-13T12:21:46.576967Z",
     "shell.execute_reply.started": "2023-05-13T12:21:46.178515Z"
    }
   },
   "outputs": [],
   "source": [
    "# Create a line plot of \"Remittance ($ billion)\" over time\n",
    "sns.lineplot(data=df, x=\"Year\", y=\" Remittance ($ billion)\")\n",
    "\n",
    "# Add a title\n",
    "plt.title(\"Remittance of Overseas Pakistanis Over Time\")\n",
    "\n",
    "# Add axis labels\n",
    "plt.xlabel(\"Year\")\n",
    "plt.ylabel(\"Remittance ($ billion)\")\n",
    "\n",
    "# Add gridlines\n",
    "plt.grid(True)\n",
    "\n",
    "# Add a legend\n",
    "plt.legend(labels=[\"Remittance\"])\n",
    "\n",
    "# Show the plot\n",
    "plt.show()"
   ]
  },
  {
   "cell_type": "code",
   "execution_count": null,
   "metadata": {
    "execution": {
     "iopub.execute_input": "2023-05-13T12:25:05.718048Z",
     "iopub.status.busy": "2023-05-13T12:25:05.717513Z",
     "iopub.status.idle": "2023-05-13T12:25:05.731949Z",
     "shell.execute_reply": "2023-05-13T12:25:05.730429Z",
     "shell.execute_reply.started": "2023-05-13T12:25:05.718001Z"
    }
   },
   "outputs": [],
   "source": [
    "# Create an instance of LinearRegression\n",
    "regressor = LinearRegression()\n",
    "\n",
    "# Fit the model with data and perform regression\n",
    "# ...\n",
    "\n",
    "# Select the features for the regression model\n",
    "X = df[[\"Overseas Pakistani population (By Country)\"]]\n",
    "y = df[\" Remittance ($ billion)\"]\n",
    "\n",
    "# Create a linear regression model object\n",
    "model = LinearRegression()\n",
    "\n",
    "# Fit the model to the data\n",
    "model.fit(X, y)\n",
    "\n",
    "# Print the model coefficients\n",
    "print(\"Coefficients:\", model.coef_)\n",
    "print(\"Intercept:\", model.intercept_)"
   ]
  },
  {
   "cell_type": "code",
   "execution_count": null,
   "metadata": {
    "execution": {
     "iopub.execute_input": "2023-05-13T12:25:07.796786Z",
     "iopub.status.busy": "2023-05-13T12:25:07.796258Z",
     "iopub.status.idle": "2023-05-13T12:25:07.824789Z",
     "shell.execute_reply": "2023-05-13T12:25:07.822821Z",
     "shell.execute_reply.started": "2023-05-13T12:25:07.796739Z"
    }
   },
   "outputs": [],
   "source": [
    "# Filter out missing values\n",
    "df_reg = df.dropna(subset=[\"Overseas Pakistani population (By Country)\", \" Remittance ($ billion)\"])\n",
    "\n",
    "# Define the predictor variable (X) and the response variable (y)\n",
    "X = df_reg[\"Overseas Pakistani population (By Country)\"]\n",
    "y = df_reg[\" Remittance ($ billion)\"]\n",
    "\n",
    "# Add a constant term to the predictor variable\n",
    "X = sm.add_constant(X)\n",
    "\n",
    "# Fit a linear regression model\n",
    "model = sm.OLS(y, X).fit()\n",
    "\n",
    "# Print the model summary\n",
    "print(model.summary())\n"
   ]
  },
  {
   "cell_type": "markdown",
   "metadata": {},
   "source": [
    "**Based on the analysis of the dataset, we can make the following conclusions:**\n",
    "\n",
    "The overseas Pakistani population is distributed across many countries, with the largest populations in Saudi Arabia, the UAE, and the UK.\n",
    "\n",
    " is a positive correlation between the overseas Pakistani population and remittance, indicating that countries with a larger Pakistani population tend to have a higher remittance inflow.\n",
    "\n",
    "The majority of the remittance is received from Saudi Arabia, UAE, and the USA.\n",
    "\n",
    "There has been a general increase in the overseas Pakistani population and remittance over time, although there have been fluctuations in individual years.\n",
    "\n",
    "Overall, this analysis provides insights into the diaspora community of overseas Pakistanis and the economic contributions they make to their home country. The findings could be useful for policymakers and organizations working on issues related to remittance, diaspora engagement, and economic development"
   ]
  },
  {
   "cell_type": "code",
   "execution_count": null,
   "metadata": {},
   "outputs": [],
   "source": []
  }
 ],
 "metadata": {
  "kernelspec": {
   "display_name": "Python 3 (ipykernel)",
   "language": "python",
   "name": "python3"
  },
  "language_info": {
   "codemirror_mode": {
    "name": "ipython",
    "version": 3
   },
   "file_extension": ".py",
   "mimetype": "text/x-python",
   "name": "python",
   "nbconvert_exporter": "python",
   "pygments_lexer": "ipython3",
   "version": "3.10.9"
  }
 },
 "nbformat": 4,
 "nbformat_minor": 4
}
